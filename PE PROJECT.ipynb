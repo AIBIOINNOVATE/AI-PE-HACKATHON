{
 "cells": [
  {
   "cell_type": "code",
   "execution_count": null,
   "id": "c69905c2",
   "metadata": {},
   "outputs": [],
   "source": [
    "import torch\n",
    "from transformers import GPT2LMHeadModel, GPT2Tokenizer, GPT2Config\n",
    "from transformers import TextDataset, DataCollatorForLanguageModeling\n",
    "from transformers import Trainer, TrainingArguments, PretrainedConfig\n",
    "\n",
    "# Load your protein sequence dataset\n",
    "# Replace 'your_dataset.txt' with the actual file containing your protein sequences\n",
    "dataset_path = 'your_dataset.txt'\n",
    "\n",
    "# Load the pre-trained GPT-2 model and tokenizer\n",
    "model_name = 'EleutherAI/gpt-neo-1.3B'  # You can experiment with different model sizes\n",
    "tokenizer = GPT2Tokenizer.from_pretrained(model_name)\n",
    "\n",
    "class ProteinGPT2Config(GPT2Config):\n",
    "    \"\"\"Custom configuration for GPT-2 model.\"\"\"\n",
    "    model_type = \"gpt2\"\n",
    "    attribute_map = {\"num_heads\": \"num_attention_heads\", \"hidden_size\": \"d_model\"}\n",
    "\n",
    "    def __init__(self, **kwargs):\n",
    "        super().__init__(**kwargs)\n",
    "        self.embed_dim = kwargs.pop(\"embed_dim\", 768)\n",
    "        self.num_hidden_layers = kwargs.pop(\"num_hidden_layers\", 12)  # Set the correct number of hidden layers\n",
    "\n",
    "config = ProteinGPT2Config.from_pretrained(model_name)\n",
    "config.embed_dim = config.embed_dim // config.num_heads\n",
    "model = GPT2LMHeadModel(config=config)\n",
    "\n",
    "# Tokenize the dataset\n",
    "def tokenize_function(examples):\n",
    "    return tokenizer(examples['text'])\n",
    "\n",
    "# Prepare the dataset\n",
    "train_dataset = TextDataset(\n",
    "    tokenizer=tokenizer,\n",
    "    file_path=dataset_path,\n",
    "    block_size=128,  # Adjust block_size according to your dataset size\n",
    "    overwrite_cache=True,\n",
    ")\n",
    "\n",
    "# Set up training arguments\n",
    "training_args = TrainingArguments(\n",
    "    output_dir='./protein_generation_model',\n",
    "    overwrite_output_dir=True,\n",
    "    num_train_epochs=3,  # Adjust the number of epochs as needed\n",
    "    per_device_train_batch_size=4,\n",
    "    save_steps=10_000,\n",
    "    save_total_limit=2,\n",
    ")\n",
    "\n",
    "# Fine-tune the model\n",
    "trainer = Trainer(\n",
    "    model=model,\n",
    "    args=training_args,\n",
    "    data_collator=DataCollatorForLanguageModeling(tokenizer),\n",
    "    train_dataset=train_dataset,\n",
    ")\n"
   ]
  },
  {
   "cell_type": "code",
   "execution_count": null,
   "id": "144cb2b6",
   "metadata": {},
   "outputs": [],
   "source": []
  }
 ],
 "metadata": {
  "kernelspec": {
   "display_name": "Python 3 (ipykernel)",
   "language": "python",
   "name": "python3"
  },
  "language_info": {
   "codemirror_mode": {
    "name": "ipython",
    "version": 3
   },
   "file_extension": ".py",
   "mimetype": "text/x-python",
   "name": "python",
   "nbconvert_exporter": "python",
   "pygments_lexer": "ipython3",
   "version": "3.10.10"
  }
 },
 "nbformat": 4,
 "nbformat_minor": 5
}
